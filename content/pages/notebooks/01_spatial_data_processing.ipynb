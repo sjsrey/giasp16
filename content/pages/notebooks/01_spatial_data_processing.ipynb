{
 "cells": [
  {
   "cell_type": "markdown",
   "metadata": {},
   "source": [
    "# Spatial Data Processing with PySAL\n",
    "\n",
    "This notebook will cover basic spatial data processing and using PySAL with the Notebook\n"
   ]
  },
  {
   "cell_type": "markdown",
   "metadata": {},
   "source": [
    "## Common Imports"
   ]
  },
  {
   "cell_type": "code",
   "execution_count": 1,
   "metadata": {
    "collapsed": false
   },
   "outputs": [],
   "source": [
    "# our convention is to alias PySAL, NumPy and Pandas\n",
    "import pysal as ps\n",
    "import numpy as np\n",
    "import pandas as pd"
   ]
  },
  {
   "cell_type": "code",
   "execution_count": 2,
   "metadata": {
    "collapsed": false
   },
   "outputs": [
    {
     "data": {
      "text/plain": [
       "'1.10.0'"
      ]
     },
     "execution_count": 2,
     "metadata": {},
     "output_type": "execute_result"
    }
   ],
   "source": [
    "# check the versions\n",
    "ps.version"
   ]
  },
  {
   "cell_type": "code",
   "execution_count": 3,
   "metadata": {
    "collapsed": false
   },
   "outputs": [
    {
     "data": {
      "text/plain": [
       "'1.10.2'"
      ]
     },
     "execution_count": 3,
     "metadata": {},
     "output_type": "execute_result"
    }
   ],
   "source": [
    "np.version.short_version"
   ]
  },
  {
   "cell_type": "code",
   "execution_count": 4,
   "metadata": {
    "collapsed": false
   },
   "outputs": [
    {
     "data": {
      "text/plain": [
       "u'0.17.0'"
      ]
     },
     "execution_count": 4,
     "metadata": {},
     "output_type": "execute_result"
    }
   ],
   "source": [
    "pd.__version__"
   ]
  },
  {
   "cell_type": "markdown",
   "metadata": {},
   "source": [
    "## Reading a CSV File"
   ]
  },
  {
   "cell_type": "code",
   "execution_count": 5,
   "metadata": {
    "collapsed": false
   },
   "outputs": [
    {
     "name": "stdout",
     "output_type": "stream",
     "text": [
      "State,pcgdp1940,pcgdp1950,pcgdp1960,pcgdp1970,pcgdp1980,pcgdp1990,pcgdp2000,hanson03,hanson98,esquivel99,inegi,inegi2\r\n",
      "Aguascalientes,10384.000,6234.000,8714.000,16078.000,21022.000,20787.000,27782.000,2.000,2.000,3.000,4.000,4.000\r\n",
      "Baja California,22361.000,20977.000,17865.000,25321.000,29283.000,26839.000,29855.000,1.000,1.000,5.000,1.000,1.000\r\n",
      "Baja California Sur,9573.000,16013.000,16707.000,24384.000,29038.000,25842.000,26103.000,2.000,2.000,6.000,1.000,1.000\r\n",
      "Campeche,3758.000,4929.000,5925.000,10274.000,12166.000,51123.000,36163.000,6.000,5.000,4.000,5.000,5.000\r\n",
      "Chiapas,2934.000,4138.000,5280.000,7015.000,16200.000,8637.000,8684.000,5.000,5.000,7.000,5.000,5.000\r\n",
      "Chihuahua,8578.000,13997.000,16265.000,19178.000,23399.000,25332.000,30735.000,1.000,1.000,5.000,1.000,2.000\r\n",
      "Coahuila,8537.000,9673.000,12318.000,20562.000,25688.000,26084.000,28460.000,1.000,1.000,5.000,2.000,2.000\r\n",
      "Colima,6909.000,6049.000,6036.000,12551.000,17427.000,18313.000,21358.000,3.000,3.000,6.000,4.000,4.000\r\n",
      "Distrito Federal,17816.000,17119.000,23174.000,32386.000,42028.000,43810.000,54349.000,4.000,4.000,1.000,3.000,3.000\r\n"
     ]
    }
   ],
   "source": [
    "!head data/mexico.csv"
   ]
  },
  {
   "cell_type": "code",
   "execution_count": 6,
   "metadata": {
    "collapsed": false
   },
   "outputs": [],
   "source": [
    "f = ps.open(\"data/mexico.csv\")\n",
    "vnames = [\"pcgdp%d\"%decade for decade in range(1940, 2010, 10)]"
   ]
  },
  {
   "cell_type": "code",
   "execution_count": 7,
   "metadata": {
    "collapsed": false
   },
   "outputs": [
    {
     "data": {
      "text/plain": [
       "['pcgdp1940',\n",
       " 'pcgdp1950',\n",
       " 'pcgdp1960',\n",
       " 'pcgdp1970',\n",
       " 'pcgdp1980',\n",
       " 'pcgdp1990',\n",
       " 'pcgdp2000']"
      ]
     },
     "execution_count": 7,
     "metadata": {},
     "output_type": "execute_result"
    }
   ],
   "source": [
    "vnames"
   ]
  },
  {
   "cell_type": "code",
   "execution_count": 8,
   "metadata": {
    "collapsed": false
   },
   "outputs": [],
   "source": [
    "Y = np.transpose(np.array([f.by_col[v] for v in vnames]))"
   ]
  },
  {
   "cell_type": "code",
   "execution_count": 9,
   "metadata": {
    "collapsed": false
   },
   "outputs": [
    {
     "data": {
      "text/plain": [
       "array([[ 10384.,   6234.,   8714.,  16078.,  21022.,  20787.,  27782.],\n",
       "       [ 22361.,  20977.,  17865.,  25321.,  29283.,  26839.,  29855.],\n",
       "       [  9573.,  16013.,  16707.,  24384.,  29038.,  25842.,  26103.],\n",
       "       [  3758.,   4929.,   5925.,  10274.,  12166.,  51123.,  36163.],\n",
       "       [  2934.,   4138.,   5280.,   7015.,  16200.,   8637.,   8684.],\n",
       "       [  8578.,  13997.,  16265.,  19178.,  23399.,  25332.,  30735.],\n",
       "       [  8537.,   9673.,  12318.,  20562.,  25688.,  26084.,  28460.],\n",
       "       [  6909.,   6049.,   6036.,  12551.,  17427.,  18313.,  21358.],\n",
       "       [ 17816.,  17119.,  23174.,  32386.,  42028.,  43810.,  54349.],\n",
       "       [ 12132.,   8859.,   9323.,  12700.,  16726.,  17353.,  17379.],\n",
       "       [  4359.,   5686.,   8209.,  11635.,  13864.,  13607.,  15585.],\n",
       "       [  2181.,   3629.,   4991.,   6497.,   8727.,   9084.,  11820.],\n",
       "       [  4414.,   5194.,   6399.,   7767.,  12391.,  13091.,  12348.],\n",
       "       [  5309.,   8232.,   9953.,  16288.,  20659.,  20133.,  21610.],\n",
       "       [  3408.,   4972.,   9053.,  17164.,  20165.,  18547.,  16322.],\n",
       "       [  3327.,   5272.,   5244.,   8109.,  11206.,  10980.,  11838.],\n",
       "       [  6936.,   8962.,  10499.,  13892.,  16513.,  17701.,  18170.],\n",
       "       [  4836.,   7515.,   7621.,  10880.,  13354.,  12757.,  11478.],\n",
       "       [  9073.,  11490.,  20117.,  28206.,  34856.,  34726.,  38672.],\n",
       "       [  1892.,   4538.,   4140.,   5230.,   7730.,   8465.,   9010.],\n",
       "       [  3569.,   6415.,   6542.,   9775.,  13374.,  11895.,  15685.],\n",
       "       [ 11016.,   5560.,   7110.,  14073.,  20088.,  22441.,  26149.],\n",
       "       [ 21965.,  28747.,   9677.,  17046.,  26695.,  25049.,  33442.],\n",
       "       [  4372.,   7533.,   6440.,   9721.,  12691.,  15436.,  15866.],\n",
       "       [  4840.,   6663.,   9613.,  14477.,  15312.,  15823.,  15242.],\n",
       "       [  6399.,  10345.,  12134.,  22662.,  23181.,  24784.,  24068.],\n",
       "       [  2459.,   3857.,   6494.,   9367.,  42361.,  16055.,  13360.],\n",
       "       [  7508.,   8536.,   8383.,  17128.,  21937.,  19983.,  23546.],\n",
       "       [  3605.,   4178.,   4357.,   6245.,   9882.,  10339.,  11701.],\n",
       "       [  5203.,  10143.,  11404.,  12240.,  14252.,  13796.,  12191.],\n",
       "       [  7990.,   8428.,  10067.,  11665.,  15239.,  13979.,  17509.],\n",
       "       [  3734.,   6435.,   5821.,   7426.,   8876.,  11656.,  11130.]])"
      ]
     },
     "execution_count": 9,
     "metadata": {},
     "output_type": "execute_result"
    }
   ],
   "source": [
    "Y"
   ]
  },
  {
   "cell_type": "code",
   "execution_count": 10,
   "metadata": {
    "collapsed": false
   },
   "outputs": [],
   "source": [
    "state = f.by_col['State']"
   ]
  },
  {
   "cell_type": "code",
   "execution_count": 11,
   "metadata": {
    "collapsed": false
   },
   "outputs": [],
   "source": [
    "f.close() # done with the file"
   ]
  },
  {
   "cell_type": "code",
   "execution_count": 12,
   "metadata": {
    "collapsed": false
   },
   "outputs": [
    {
     "data": {
      "text/plain": [
       "['Aguascalientes',\n",
       " 'Baja California',\n",
       " 'Baja California Sur',\n",
       " 'Campeche',\n",
       " 'Chiapas',\n",
       " 'Chihuahua',\n",
       " 'Coahuila',\n",
       " 'Colima',\n",
       " 'Distrito Federal',\n",
       " 'Durango',\n",
       " 'Guanajuato',\n",
       " 'Guerrero',\n",
       " 'Hidalgo',\n",
       " 'Jalisco',\n",
       " 'Mexico',\n",
       " 'Michoacan',\n",
       " 'Morelos',\n",
       " 'Nayarit',\n",
       " 'Nuevo Leon',\n",
       " 'Oaxaca',\n",
       " 'Puebla',\n",
       " 'Quertaro',\n",
       " 'Quintana Roo',\n",
       " 'San Luis Potosi',\n",
       " 'Sinaloa',\n",
       " 'Sonora',\n",
       " 'Tabasco',\n",
       " 'Tamaulipas',\n",
       " 'Tlaxcala',\n",
       " 'Veracruz',\n",
       " 'Yucatan',\n",
       " 'Zacatecas']"
      ]
     },
     "execution_count": 12,
     "metadata": {},
     "output_type": "execute_result"
    }
   ],
   "source": [
    "state"
   ]
  },
  {
   "cell_type": "markdown",
   "metadata": {},
   "source": [
    "## Reading a Shapefile"
   ]
  },
  {
   "cell_type": "code",
   "execution_count": 13,
   "metadata": {
    "collapsed": false
   },
   "outputs": [],
   "source": [
    "# us counties example"
   ]
  },
  {
   "cell_type": "code",
   "execution_count": 14,
   "metadata": {
    "collapsed": false
   },
   "outputs": [],
   "source": [
    "### First the attributes from the dbf"
   ]
  },
  {
   "cell_type": "code",
   "execution_count": 15,
   "metadata": {
    "collapsed": false
   },
   "outputs": [],
   "source": [
    "dbf = ps.open('data/NAT.dbf')\n",
    "header = dbf.header"
   ]
  },
  {
   "cell_type": "code",
   "execution_count": 16,
   "metadata": {
    "collapsed": false
   },
   "outputs": [
    {
     "data": {
      "text/plain": [
       "['NAME',\n",
       " 'STATE_NAME',\n",
       " 'STATE_FIPS',\n",
       " 'CNTY_FIPS',\n",
       " 'FIPS',\n",
       " 'STFIPS',\n",
       " 'COFIPS',\n",
       " 'FIPSNO',\n",
       " 'SOUTH',\n",
       " 'HR60',\n",
       " 'HR70',\n",
       " 'HR80',\n",
       " 'HR90',\n",
       " 'HC60',\n",
       " 'HC70',\n",
       " 'HC80',\n",
       " 'HC90',\n",
       " 'PO60',\n",
       " 'PO70',\n",
       " 'PO80',\n",
       " 'PO90',\n",
       " 'RD60',\n",
       " 'RD70',\n",
       " 'RD80',\n",
       " 'RD90',\n",
       " 'PS60',\n",
       " 'PS70',\n",
       " 'PS80',\n",
       " 'PS90',\n",
       " 'UE60',\n",
       " 'UE70',\n",
       " 'UE80',\n",
       " 'UE90',\n",
       " 'DV60',\n",
       " 'DV70',\n",
       " 'DV80',\n",
       " 'DV90',\n",
       " 'MA60',\n",
       " 'MA70',\n",
       " 'MA80',\n",
       " 'MA90',\n",
       " 'POL60',\n",
       " 'POL70',\n",
       " 'POL80',\n",
       " 'POL90',\n",
       " 'DNL60',\n",
       " 'DNL70',\n",
       " 'DNL80',\n",
       " 'DNL90',\n",
       " 'MFIL59',\n",
       " 'MFIL69',\n",
       " 'MFIL79',\n",
       " 'MFIL89',\n",
       " 'FP59',\n",
       " 'FP69',\n",
       " 'FP79',\n",
       " 'FP89',\n",
       " 'BLK60',\n",
       " 'BLK70',\n",
       " 'BLK80',\n",
       " 'BLK90',\n",
       " 'GI59',\n",
       " 'GI69',\n",
       " 'GI79',\n",
       " 'GI89',\n",
       " 'FH60',\n",
       " 'FH70',\n",
       " 'FH80',\n",
       " 'FH90']"
      ]
     },
     "execution_count": 16,
     "metadata": {},
     "output_type": "execute_result"
    }
   ],
   "source": [
    "header"
   ]
  },
  {
   "cell_type": "code",
   "execution_count": 17,
   "metadata": {
    "collapsed": false
   },
   "outputs": [],
   "source": [
    "# Read all the numeric variables into a big array\n",
    "# find the first offset we need\n",
    "start_col = header.index(\"SOUTH\")"
   ]
  },
  {
   "cell_type": "code",
   "execution_count": 18,
   "metadata": {
    "collapsed": false
   },
   "outputs": [
    {
     "data": {
      "text/plain": [
       "8"
      ]
     },
     "execution_count": 18,
     "metadata": {},
     "output_type": "execute_result"
    }
   ],
   "source": [
    "start_col"
   ]
  },
  {
   "cell_type": "code",
   "execution_count": 19,
   "metadata": {
    "collapsed": false
   },
   "outputs": [],
   "source": [
    "vars = header[8:]"
   ]
  },
  {
   "cell_type": "code",
   "execution_count": 20,
   "metadata": {
    "collapsed": false
   },
   "outputs": [
    {
     "data": {
      "text/plain": [
       "['SOUTH',\n",
       " 'HR60',\n",
       " 'HR70',\n",
       " 'HR80',\n",
       " 'HR90',\n",
       " 'HC60',\n",
       " 'HC70',\n",
       " 'HC80',\n",
       " 'HC90',\n",
       " 'PO60',\n",
       " 'PO70',\n",
       " 'PO80',\n",
       " 'PO90',\n",
       " 'RD60',\n",
       " 'RD70',\n",
       " 'RD80',\n",
       " 'RD90',\n",
       " 'PS60',\n",
       " 'PS70',\n",
       " 'PS80',\n",
       " 'PS90',\n",
       " 'UE60',\n",
       " 'UE70',\n",
       " 'UE80',\n",
       " 'UE90',\n",
       " 'DV60',\n",
       " 'DV70',\n",
       " 'DV80',\n",
       " 'DV90',\n",
       " 'MA60',\n",
       " 'MA70',\n",
       " 'MA80',\n",
       " 'MA90',\n",
       " 'POL60',\n",
       " 'POL70',\n",
       " 'POL80',\n",
       " 'POL90',\n",
       " 'DNL60',\n",
       " 'DNL70',\n",
       " 'DNL80',\n",
       " 'DNL90',\n",
       " 'MFIL59',\n",
       " 'MFIL69',\n",
       " 'MFIL79',\n",
       " 'MFIL89',\n",
       " 'FP59',\n",
       " 'FP69',\n",
       " 'FP79',\n",
       " 'FP89',\n",
       " 'BLK60',\n",
       " 'BLK70',\n",
       " 'BLK80',\n",
       " 'BLK90',\n",
       " 'GI59',\n",
       " 'GI69',\n",
       " 'GI79',\n",
       " 'GI89',\n",
       " 'FH60',\n",
       " 'FH70',\n",
       " 'FH80',\n",
       " 'FH90']"
      ]
     },
     "execution_count": 20,
     "metadata": {},
     "output_type": "execute_result"
    }
   ],
   "source": [
    "vars"
   ]
  },
  {
   "cell_type": "code",
   "execution_count": 21,
   "metadata": {
    "collapsed": false
   },
   "outputs": [],
   "source": [
    "nat_array = np.array([np.array(dbf.by_col(var)) for var in vars])"
   ]
  },
  {
   "cell_type": "code",
   "execution_count": 22,
   "metadata": {
    "collapsed": false
   },
   "outputs": [
    {
     "data": {
      "text/plain": [
       "(61, 3085)"
      ]
     },
     "execution_count": 22,
     "metadata": {},
     "output_type": "execute_result"
    }
   ],
   "source": [
    "nat_array.shape"
   ]
  },
  {
   "cell_type": "code",
   "execution_count": 23,
   "metadata": {
    "collapsed": false
   },
   "outputs": [],
   "source": [
    "nat_array = nat_array.T"
   ]
  },
  {
   "cell_type": "code",
   "execution_count": 24,
   "metadata": {
    "collapsed": false
   },
   "outputs": [
    {
     "data": {
      "text/plain": [
       "(3085, 61)"
      ]
     },
     "execution_count": 24,
     "metadata": {},
     "output_type": "execute_result"
    }
   ],
   "source": [
    "nat_array.shape"
   ]
  },
  {
   "cell_type": "code",
   "execution_count": 25,
   "metadata": {
    "collapsed": false
   },
   "outputs": [],
   "source": [
    "dbf.close() # done with the dbf file\n"
   ]
  },
  {
   "cell_type": "markdown",
   "metadata": {},
   "source": [
    "### Now the geometries "
   ]
  },
  {
   "cell_type": "code",
   "execution_count": 26,
   "metadata": {
    "collapsed": false
   },
   "outputs": [],
   "source": [
    "shp_file = ps.open(\"data/NAT.shp\")"
   ]
  },
  {
   "cell_type": "code",
   "execution_count": 27,
   "metadata": {
    "collapsed": false
   },
   "outputs": [
    {
     "data": {
      "text/plain": [
       "{'BBOX Mmax': 0.0,\n",
       " 'BBOX Mmin': 0.0,\n",
       " 'BBOX Xmax': -66.9698486328125,\n",
       " 'BBOX Xmin': -124.7314224243164,\n",
       " 'BBOX Ymax': 49.371734619140625,\n",
       " 'BBOX Ymin': 24.95596694946289,\n",
       " 'BBOX Zmax': 0.0,\n",
       " 'BBOX Zmin': 3.754550197104843e+72,\n",
       " 'File Code': 9994,\n",
       " 'File Length': 731108,\n",
       " 'Shape Type': 5,\n",
       " 'Unused0': 0,\n",
       " 'Unused1': 0,\n",
       " 'Unused2': 0,\n",
       " 'Unused3': 0,\n",
       " 'Unused4': 0,\n",
       " 'Version': 1000}"
      ]
     },
     "execution_count": 27,
     "metadata": {},
     "output_type": "execute_result"
    }
   ],
   "source": [
    "shp_file.header"
   ]
  },
  {
   "cell_type": "code",
   "execution_count": 28,
   "metadata": {
    "collapsed": false
   },
   "outputs": [
    {
     "data": {
      "text/plain": [
       "3085"
      ]
     },
     "execution_count": 28,
     "metadata": {},
     "output_type": "execute_result"
    }
   ],
   "source": [
    "len(shp_file)"
   ]
  },
  {
   "cell_type": "code",
   "execution_count": 29,
   "metadata": {
    "collapsed": false
   },
   "outputs": [],
   "source": [
    "shapes = [ shp_file.next() for i in xrange(len(shp_file)) ]"
   ]
  },
  {
   "cell_type": "code",
   "execution_count": 30,
   "metadata": {
    "collapsed": false
   },
   "outputs": [
    {
     "data": {
      "text/plain": [
       "list"
      ]
     },
     "execution_count": 30,
     "metadata": {},
     "output_type": "execute_result"
    }
   ],
   "source": [
    "type(shapes)"
   ]
  },
  {
   "cell_type": "code",
   "execution_count": 31,
   "metadata": {
    "collapsed": false
   },
   "outputs": [
    {
     "data": {
      "text/plain": [
       "3085"
      ]
     },
     "execution_count": 31,
     "metadata": {},
     "output_type": "execute_result"
    }
   ],
   "source": [
    "len(shapes)"
   ]
  },
  {
   "cell_type": "code",
   "execution_count": null,
   "metadata": {
    "collapsed": false
   },
   "outputs": [],
   "source": []
  },
  {
   "cell_type": "code",
   "execution_count": 32,
   "metadata": {
    "collapsed": false
   },
   "outputs": [
    {
     "data": {
      "text/plain": [
       "list"
      ]
     },
     "execution_count": 32,
     "metadata": {},
     "output_type": "execute_result"
    }
   ],
   "source": [
    "type(shapes)"
   ]
  },
  {
   "cell_type": "code",
   "execution_count": 33,
   "metadata": {
    "collapsed": false
   },
   "outputs": [],
   "source": [
    "s0 = shapes[0]"
   ]
  },
  {
   "cell_type": "code",
   "execution_count": 34,
   "metadata": {
    "collapsed": false
   },
   "outputs": [
    {
     "data": {
      "text/plain": [
       "<pysal.cg.shapes.Polygon at 0x109945390>"
      ]
     },
     "execution_count": 34,
     "metadata": {},
     "output_type": "execute_result"
    }
   ],
   "source": [
    "s0"
   ]
  },
  {
   "cell_type": "code",
   "execution_count": 35,
   "metadata": {
    "collapsed": false
   },
   "outputs": [
    {
     "data": {
      "text/plain": [
       "['__class__',\n",
       " '__delattr__',\n",
       " '__dict__',\n",
       " '__doc__',\n",
       " '__format__',\n",
       " '__from_geo_interface__',\n",
       " '__geo_interface__',\n",
       " '__getattribute__',\n",
       " '__hash__',\n",
       " '__init__',\n",
       " '__len__',\n",
       " '__module__',\n",
       " '__new__',\n",
       " '__reduce__',\n",
       " '__reduce_ex__',\n",
       " '__repr__',\n",
       " '__setattr__',\n",
       " '__sizeof__',\n",
       " '__str__',\n",
       " '__subclasshook__',\n",
       " '__weakref__',\n",
       " '_area',\n",
       " '_bbox',\n",
       " '_bounding_box',\n",
       " '_centroid',\n",
       " '_hole_rings',\n",
       " '_holes',\n",
       " '_len',\n",
       " '_part_rings',\n",
       " '_perimeter',\n",
       " '_reset_props',\n",
       " '_vertices',\n",
       " 'area',\n",
       " 'bbox',\n",
       " 'bounding_box',\n",
       " 'centroid',\n",
       " 'contains_point',\n",
       " 'holes',\n",
       " 'id',\n",
       " 'len',\n",
       " 'parts',\n",
       " 'perimeter',\n",
       " 'vertices']"
      ]
     },
     "execution_count": 35,
     "metadata": {},
     "output_type": "execute_result"
    }
   ],
   "source": [
    "dir(s0)"
   ]
  },
  {
   "cell_type": "code",
   "execution_count": 36,
   "metadata": {
    "collapsed": false
   },
   "outputs": [],
   "source": [
    "shp_file.close()"
   ]
  },
  {
   "cell_type": "markdown",
   "metadata": {},
   "source": [
    "## Reading a GeoJSON File"
   ]
  },
  {
   "cell_type": "code",
   "execution_count": 37,
   "metadata": {
    "collapsed": false
   },
   "outputs": [],
   "source": [
    "import json"
   ]
  },
  {
   "cell_type": "code",
   "execution_count": 38,
   "metadata": {
    "collapsed": false
   },
   "outputs": [],
   "source": [
    "f = open('data/nat.json')"
   ]
  },
  {
   "cell_type": "code",
   "execution_count": 39,
   "metadata": {
    "collapsed": false
   },
   "outputs": [],
   "source": [
    "fj = json.load(f)"
   ]
  },
  {
   "cell_type": "code",
   "execution_count": 40,
   "metadata": {
    "collapsed": false
   },
   "outputs": [],
   "source": [
    "f.close()"
   ]
  },
  {
   "cell_type": "code",
   "execution_count": 41,
   "metadata": {
    "collapsed": false
   },
   "outputs": [
    {
     "data": {
      "text/plain": [
       "[u'type', u'features']"
      ]
     },
     "execution_count": 41,
     "metadata": {},
     "output_type": "execute_result"
    }
   ],
   "source": [
    "fj.keys()"
   ]
  },
  {
   "cell_type": "code",
   "execution_count": 42,
   "metadata": {
    "collapsed": false
   },
   "outputs": [],
   "source": [
    "features = []\n",
    "for feature in fj['features']:\n",
    "    features.append(feature)"
   ]
  },
  {
   "cell_type": "code",
   "execution_count": 43,
   "metadata": {
    "collapsed": false
   },
   "outputs": [
    {
     "data": {
      "text/plain": [
       "{u'geometry': {u'coordinates': [[[-95.34258270263672, 48.54670333862305],\n",
       "    [-95.34081268310547, 48.71519088745117],\n",
       "    [-95.09413146972656, 48.717376708984375],\n",
       "    [-95.09468078613281, 48.911773681640625],\n",
       "    [-95.13359069824219, 48.89449691772461],\n",
       "    [-95.21934509277344, 48.879459381103516],\n",
       "    [-95.29002380371094, 48.90296173095703],\n",
       "    [-95.31393432617188, 48.93208312988281],\n",
       "    [-95.30352020263672, 48.94594955444336],\n",
       "    [-95.3206787109375, 48.96098709106445],\n",
       "    [-95.322998046875, 48.978965759277344],\n",
       "    [-95.30988311767578, 48.993404388427734],\n",
       "    [-95.27642059326172, 49.0],\n",
       "    [-95.15751647949219, 49.000003814697266],\n",
       "    [-95.15162658691406, 49.371734619140625],\n",
       "    [-94.8318099975586, 49.330810546875],\n",
       "    [-94.68103790283203, 48.87717819213867],\n",
       "    [-94.69422149658203, 48.77763748168945],\n",
       "    [-94.57010650634766, 48.71370315551758],\n",
       "    [-94.43043518066406, 48.7108154296875],\n",
       "    [-94.43147277832031, 48.368247985839844],\n",
       "    [-95.21153259277344, 48.36903381347656],\n",
       "    [-95.21959686279297, 48.54438018798828],\n",
       "    [-95.34258270263672, 48.54670333862305]]],\n",
       "  u'type': u'Polygon'},\n",
       " u'properties': {u'BLK60': 0.4414498141,\n",
       "  u'BLK70': 0.4765487835,\n",
       "  u'BLK80': 0.0531349628,\n",
       "  u'BLK90': 0.0245338567,\n",
       "  u'CNTY_FIPS': u'077',\n",
       "  u'COFIPS': 77.0,\n",
       "  u'DNL60': 1.1887546181,\n",
       "  u'DNL70': 1.1122488636,\n",
       "  u'DNL80': 1.0660453147,\n",
       "  u'DNL90': 1.1452935398,\n",
       "  u'DV60': 1.858974359,\n",
       "  u'DV70': 2.6198083067,\n",
       "  u'DV80': 3.7465940054,\n",
       "  u'DV90': 7.3885350318,\n",
       "  u'FH60': 11.279620853,\n",
       "  u'FH70': 5.4,\n",
       "  u'FH80': 5.6638811513,\n",
       "  u'FH90': 9.5158597663,\n",
       "  u'FIPS': u'27077',\n",
       "  u'FIPSNO': 27077.0,\n",
       "  u'FP59': 36.3,\n",
       "  u'FP69': 16.1,\n",
       "  u'FP79': 13.370473538,\n",
       "  u'FP89': 8.5141903172,\n",
       "  u'GI59': 0.2852352228,\n",
       "  u'GI69': 0.3723362149,\n",
       "  u'GI79': 0.3421035684,\n",
       "  u'GI89': 0.3364546164,\n",
       "  u'HC60': 0.0,\n",
       "  u'HC70': 0.0,\n",
       "  u'HC80': 0.3333333333,\n",
       "  u'HC90': 0.0,\n",
       "  u'HR60': 0.0,\n",
       "  u'HR70': 0.0,\n",
       "  u'HR80': 8.8558271343,\n",
       "  u'HR90': 0.0,\n",
       "  u'MA60': 28.8,\n",
       "  u'MA70': 30.5,\n",
       "  u'MA80': 34.5,\n",
       "  u'MA90': 35.5,\n",
       "  u'MFIL59': 8.2201339572,\n",
       "  u'MFIL69': 8.7083092959,\n",
       "  u'MFIL79': 9.5517290744,\n",
       "  u'MFIL89': 10.279214842,\n",
       "  u'NAME': u'Lake of the Woods',\n",
       "  u'PO60': 4304,\n",
       "  u'PO70': 3987,\n",
       "  u'PO80': 3764,\n",
       "  u'PO90': 4076,\n",
       "  u'POL60': 8.3673001018,\n",
       "  u'POL70': 8.2907943474,\n",
       "  u'POL80': 8.2332375007,\n",
       "  u'POL90': 8.3128713943,\n",
       "  u'PS60': -1.449946096,\n",
       "  u'PS70': -1.462559387,\n",
       "  u'PS80': -1.585123171,\n",
       "  u'PS90': -1.495507045,\n",
       "  u'RD60': -0.17510549,\n",
       "  u'RD70': -0.1965356,\n",
       "  u'RD80': -0.36285011,\n",
       "  u'RD90': -0.802773737,\n",
       "  u'SOUTH': 0,\n",
       "  u'STATE_FIPS': u'27',\n",
       "  u'STATE_NAME': u'Minnesota',\n",
       "  u'STFIPS': 27.0,\n",
       "  u'UE60': 7.9,\n",
       "  u'UE70': 9.0,\n",
       "  u'UE80': 5.9025787966,\n",
       "  u'UE90': 3.894790086},\n",
       " u'type': u'Feature'}"
      ]
     },
     "execution_count": 43,
     "metadata": {},
     "output_type": "execute_result"
    }
   ],
   "source": [
    "features[0]"
   ]
  },
  {
   "cell_type": "code",
   "execution_count": null,
   "metadata": {
    "collapsed": false
   },
   "outputs": [],
   "source": []
  },
  {
   "cell_type": "code",
   "execution_count": null,
   "metadata": {
    "collapsed": false
   },
   "outputs": [],
   "source": []
  },
  {
   "cell_type": "code",
   "execution_count": null,
   "metadata": {
    "collapsed": false
   },
   "outputs": [],
   "source": []
  }
 ],
 "metadata": {
  "kernelspec": {
   "display_name": "Python 2",
   "language": "python",
   "name": "python2"
  },
  "language_info": {
   "codemirror_mode": {
    "name": "ipython",
    "version": 2
   },
   "file_extension": ".py",
   "mimetype": "text/x-python",
   "name": "python",
   "nbconvert_exporter": "python",
   "pygments_lexer": "ipython2",
   "version": "2.7.11"
  }
 },
 "nbformat": 4,
 "nbformat_minor": 0
}
